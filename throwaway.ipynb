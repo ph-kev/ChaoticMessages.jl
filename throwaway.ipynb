{
 "cells": [
  {
   "cell_type": "code",
   "execution_count": 39,
   "metadata": {},
   "outputs": [
    {
     "data": {
      "text/plain": [
       "binary_to_bmessage (generic function with 1 method)"
      ]
     },
     "metadata": {},
     "output_type": "display_data"
    }
   ],
   "source": [
    "function binary_to_bmessage(\n",
    "    s::String;\n",
    "    time_length::Float64 = 2.0,\n",
    "    b_zero::Float64 = 4.0,\n",
    "    b_one::Float64 = 4.4,\n",
    ")\n",
    "    # Check if the string is binary \n",
    "    for char in s\n",
    "        if ((char != '0') && (char != '1'))\n",
    "            error(\"Only take binary strings of 0's and 1's\")\n",
    "        end \n",
    "    end \n",
    "\n",
    "    # Parse string and put them into an array \n",
    "    binary_arr = [parse.(Float64, string(c)) for c in s]\n",
    "\n",
    "    # Iterate through binary_arr and replace them with b_zero if the digit is 0 and b_one\n",
    "    # otherise \n",
    "    for (idx, num) in enumerate(binary_arr)\n",
    "        if num == 0\n",
    "            binary_arr[idx] = b_zero\n",
    "        else\n",
    "            binary_arr[idx] = b_one\n",
    "        end\n",
    "    end\n",
    "\n",
    "    function binary_func(t::Float64)\n",
    "        # Check for time values that are not mapped to any digit in the binary string \n",
    "        if (t >= time_length * length(binary_arr) || t < 0.0)\n",
    "            return b_zero\n",
    "        else\n",
    "            idx = Int(floor(t / time_length)) + 1 # add one for one-indexing \n",
    "            return binary_arr[idx]\n",
    "        end\n",
    "    end\n",
    "    return binary_func\n",
    "end"
   ]
  },
  {
   "cell_type": "code",
   "execution_count": 40,
   "metadata": {},
   "outputs": [
    {
     "ename": "ErrorException",
     "evalue": "Only take binary strings of 0's and 1's",
     "output_type": "error",
     "traceback": [
      "Only take binary strings of 0's and 1's\n",
      "\n",
      "Stacktrace:\n",
      " [1] error(s::String)\n",
      "   @ Base .\\error.jl:35\n",
      " [2] binary_to_bmessage(s::String; time_length::Float64, b_zero::Float64, b_one::Float64)\n",
      "   @ Main c:\\Users\\phank\\.julia\\dev\\ChaoticMessages.jl\\throwaway.ipynb:10\n",
      " [3] binary_to_bmessage(s::String)\n",
      "   @ Main c:\\Users\\phank\\.julia\\dev\\ChaoticMessages.jl\\throwaway.ipynb:1\n",
      " [4] top-level scope\n",
      "   @ c:\\Users\\phank\\.julia\\dev\\ChaoticMessages.jl\\throwaway.ipynb:1"
     ]
    }
   ],
   "source": [
    "binary_to_bmessage(\"102\")"
   ]
  },
  {
   "cell_type": "code",
   "execution_count": 41,
   "metadata": {},
   "outputs": [
    {
     "data": {
      "text/plain": [
       "(::var\"#binary_func#24\"{Float64, Float64, Vector{Float64}}) (generic function with 1 method)"
      ]
     },
     "metadata": {},
     "output_type": "display_data"
    }
   ],
   "source": [
    "binary_to_bmessage(\"10\")"
   ]
  }
 ],
 "metadata": {
  "kernelspec": {
   "display_name": "Julia 1.8.5",
   "language": "julia",
   "name": "julia-1.8"
  },
  "language_info": {
   "file_extension": ".jl",
   "mimetype": "application/julia",
   "name": "julia",
   "version": "1.8.5"
  }
 },
 "nbformat": 4,
 "nbformat_minor": 2
}
